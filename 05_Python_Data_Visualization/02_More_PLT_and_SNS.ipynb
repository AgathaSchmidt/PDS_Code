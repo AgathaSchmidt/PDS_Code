{
 "cells": [
  {
   "cell_type": "markdown",
   "metadata": {},
   "source": [
    "## Galleries\n",
    "For a first glance what matplotlib(.pyplot) and seaborn are capable of, have a look at their in-house galleries:\n",
    "https://matplotlib.org/gallery.html\n",
    "https://seaborn.pydata.org/examples/index.html\n",
    "\n",
    "This gallery offers great (sorted) example plots:\n",
    "https://python-graph-gallery.com\n",
    "\n",
    "And don't forget to browse both plt's and sns' documentations!\n",
    "https://matplotlib.org/3.2.1/contents.html\n",
    "https://seaborn.pydata.org"
   ]
  }
 ],
 "metadata": {
  "kernelspec": {
   "display_name": "Python 3",
   "language": "python",
   "name": "python3"
  },
  "language_info": {
   "codemirror_mode": {
    "name": "ipython",
    "version": 3
   },
   "file_extension": ".py",
   "mimetype": "text/x-python",
   "name": "python",
   "nbconvert_exporter": "python",
   "pygments_lexer": "ipython3",
   "version": "3.7.7"
  }
 },
 "nbformat": 4,
 "nbformat_minor": 4
}
