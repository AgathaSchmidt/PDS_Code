{
 "cells": [
  {
   "cell_type": "code",
   "execution_count": 1,
   "metadata": {},
   "outputs": [
    {
     "name": "stdout",
     "output_type": "stream",
     "text": [
      "Obtaining file:///Users/kienscherfp/sciebo/Teaching/Master/PDS/PDS_Code/10_Python_Software_Projects/pds\n",
      "Requirement already satisfied: pandas in /Users/kienscherfp/opt/miniconda3/envs/PDS20/lib/python3.7/site-packages (from pds==0.0.1.dev1) (1.0.3)\n",
      "Requirement already satisfied: scikit-learn in /Users/kienscherfp/opt/miniconda3/envs/PDS20/lib/python3.7/site-packages (from pds==0.0.1.dev1) (0.22.1)\n",
      "Requirement already satisfied: click in /Users/kienscherfp/opt/miniconda3/envs/PDS20/lib/python3.7/site-packages (from pds==0.0.1.dev1) (7.1.1)\n",
      "Requirement already satisfied: pytz>=2017.2 in /Users/kienscherfp/opt/miniconda3/envs/PDS20/lib/python3.7/site-packages (from pandas->pds==0.0.1.dev1) (2019.3)\n",
      "Requirement already satisfied: python-dateutil>=2.6.1 in /Users/kienscherfp/opt/miniconda3/envs/PDS20/lib/python3.7/site-packages (from pandas->pds==0.0.1.dev1) (2.8.1)\n",
      "Requirement already satisfied: numpy>=1.13.3 in /Users/kienscherfp/opt/miniconda3/envs/PDS20/lib/python3.7/site-packages (from pandas->pds==0.0.1.dev1) (1.18.1)\n",
      "Requirement already satisfied: scipy>=0.17.0 in /Users/kienscherfp/opt/miniconda3/envs/PDS20/lib/python3.7/site-packages (from scikit-learn->pds==0.0.1.dev1) (1.4.1)\n",
      "Requirement already satisfied: joblib>=0.11 in /Users/kienscherfp/opt/miniconda3/envs/PDS20/lib/python3.7/site-packages (from scikit-learn->pds==0.0.1.dev1) (0.14.1)\n",
      "Requirement already satisfied: six>=1.5 in /Users/kienscherfp/opt/miniconda3/envs/PDS20/lib/python3.7/site-packages (from python-dateutil>=2.6.1->pandas->pds==0.0.1.dev1) (1.14.0)\n",
      "Installing collected packages: pds\n",
      "  Attempting uninstall: pds\n",
      "    Found existing installation: pds 0.0.1.dev1\n",
      "    Uninstalling pds-0.0.1.dev1:\n",
      "      Successfully uninstalled pds-0.0.1.dev1\n",
      "  Running setup.py develop for pds\n",
      "Successfully installed pds\n"
     ]
    }
   ],
   "source": [
    "!pip install -e ..\n",
    "import pds"
   ]
  },
  {
   "cell_type": "code",
   "execution_count": 2,
   "metadata": {},
   "outputs": [
    {
     "name": "stdout",
     "output_type": "stream",
     "text": [
      "Linear model created\n",
      "Training...\n"
     ]
    }
   ],
   "source": [
    "pds.model.train()"
   ]
  }
 ],
 "metadata": {
  "kernelspec": {
   "display_name": "Python 3",
   "language": "python",
   "name": "python3"
  },
  "language_info": {
   "codemirror_mode": {
    "name": "ipython",
    "version": 3
   },
   "file_extension": ".py",
   "mimetype": "text/x-python",
   "name": "python",
   "nbconvert_exporter": "python",
   "pygments_lexer": "ipython3",
   "version": "3.7.7"
  }
 },
 "nbformat": 4,
 "nbformat_minor": 4
}
