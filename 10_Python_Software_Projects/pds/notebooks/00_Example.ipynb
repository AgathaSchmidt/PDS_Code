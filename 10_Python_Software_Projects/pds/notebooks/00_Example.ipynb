{
 "cells": [
  {
   "cell_type": "code",
   "execution_count": 4,
   "metadata": {},
   "outputs": [
    {
     "name": "stdout",
     "output_type": "stream",
     "text": [
      "Obtaining file:///Users/kienscherfp/sciebo/Teaching/Master/PDS/PDS_Code/10_Python_Software_Projects/pds\n",
      "Requirement already satisfied: pandas in /Users/kienscherfp/opt/miniconda3/envs/PDS20/lib/python3.7/site-packages (from pds==0.0.1.dev1) (1.0.3)\n",
      "Requirement already satisfied: scikit-learn in /Users/kienscherfp/opt/miniconda3/envs/PDS20/lib/python3.7/site-packages (from pds==0.0.1.dev1) (0.22.1)\n",
      "Requirement already satisfied: click in /Users/kienscherfp/opt/miniconda3/envs/PDS20/lib/python3.7/site-packages (from pds==0.0.1.dev1) (7.1.1)\n",
      "Requirement already satisfied: python-dateutil>=2.6.1 in /Users/kienscherfp/opt/miniconda3/envs/PDS20/lib/python3.7/site-packages (from pandas->pds==0.0.1.dev1) (2.8.1)\n",
      "Requirement already satisfied: pytz>=2017.2 in /Users/kienscherfp/opt/miniconda3/envs/PDS20/lib/python3.7/site-packages (from pandas->pds==0.0.1.dev1) (2019.3)\n",
      "Requirement already satisfied: numpy>=1.13.3 in /Users/kienscherfp/opt/miniconda3/envs/PDS20/lib/python3.7/site-packages (from pandas->pds==0.0.1.dev1) (1.18.1)\n",
      "Requirement already satisfied: joblib>=0.11 in /Users/kienscherfp/opt/miniconda3/envs/PDS20/lib/python3.7/site-packages (from scikit-learn->pds==0.0.1.dev1) (0.14.1)\n",
      "Requirement already satisfied: scipy>=0.17.0 in /Users/kienscherfp/opt/miniconda3/envs/PDS20/lib/python3.7/site-packages (from scikit-learn->pds==0.0.1.dev1) (1.4.1)\n",
      "Requirement already satisfied: six>=1.5 in /Users/kienscherfp/opt/miniconda3/envs/PDS20/lib/python3.7/site-packages (from python-dateutil>=2.6.1->pandas->pds==0.0.1.dev1) (1.14.0)\n",
      "Installing collected packages: pds\n",
      "  Attempting uninstall: pds\n",
      "    Found existing installation: pds 0.0.1.dev1\n",
      "    Uninstalling pds-0.0.1.dev1:\n",
      "      Successfully uninstalled pds-0.0.1.dev1\n",
      "  Running setup.py develop for pds\n",
      "Successfully installed pds\n"
     ]
    }
   ],
   "source": [
    "!pip install -e ..\n",
    "import pds"
   ]
  },
  {
   "cell_type": "code",
   "execution_count": 5,
   "metadata": {},
   "outputs": [
    {
     "name": "stdout",
     "output_type": "stream",
     "text": [
      "Linear model created\n",
      "Training...\n"
     ]
    },
    {
     "ename": "FileNotFoundError",
     "evalue": "[Errno 2] No such file or directory: '/Users/kienscherfp/sciebo/Teaching/Master/PDS/PDS_Code/10_Python_Software_Projects/pds/notebooks/data/output/model.pkl'",
     "output_type": "error",
     "traceback": [
      "\u001b[0;31m---------------------------------------------------------------------------\u001b[0m",
      "\u001b[0;31mFileNotFoundError\u001b[0m                         Traceback (most recent call last)",
      "\u001b[0;32m<ipython-input-5-63f9e97f3433>\u001b[0m in \u001b[0;36m<module>\u001b[0;34m\u001b[0m\n\u001b[0;32m----> 1\u001b[0;31m \u001b[0mpds\u001b[0m\u001b[0;34m.\u001b[0m\u001b[0mmodel\u001b[0m\u001b[0;34m.\u001b[0m\u001b[0mtrain\u001b[0m\u001b[0;34m(\u001b[0m\u001b[0;34m)\u001b[0m\u001b[0;34m\u001b[0m\u001b[0;34m\u001b[0m\u001b[0m\n\u001b[0m",
      "\u001b[0;32m~/sciebo/Teaching/Master/PDS/PDS_Code/10_Python_Software_Projects/pds/pds/model/model.py\u001b[0m in \u001b[0;36mtrain\u001b[0;34m()\u001b[0m\n\u001b[1;32m      8\u001b[0m     \u001b[0mprint\u001b[0m\u001b[0;34m(\u001b[0m\u001b[0;34m\"Training...\"\u001b[0m\u001b[0;34m)\u001b[0m\u001b[0;34m\u001b[0m\u001b[0;34m\u001b[0m\u001b[0m\n\u001b[1;32m      9\u001b[0m \u001b[0;34m\u001b[0m\u001b[0m\n\u001b[0;32m---> 10\u001b[0;31m     \u001b[0mio\u001b[0m\u001b[0;34m.\u001b[0m\u001b[0msave_model\u001b[0m\u001b[0;34m(\u001b[0m\u001b[0mlin\u001b[0m\u001b[0;34m)\u001b[0m\u001b[0;34m\u001b[0m\u001b[0;34m\u001b[0m\u001b[0m\n\u001b[0m",
      "\u001b[0;32m~/sciebo/Teaching/Master/PDS/PDS_Code/10_Python_Software_Projects/pds/pds/io/output.py\u001b[0m in \u001b[0;36msave_model\u001b[0;34m(model)\u001b[0m\n\u001b[1;32m      4\u001b[0m \u001b[0;34m\u001b[0m\u001b[0m\n\u001b[1;32m      5\u001b[0m \u001b[0;34m\u001b[0m\u001b[0m\n\u001b[0;32m----> 6\u001b[0;31m \u001b[0;32mdef\u001b[0m \u001b[0msave_model\u001b[0m\u001b[0;34m(\u001b[0m\u001b[0mmodel\u001b[0m\u001b[0;34m)\u001b[0m\u001b[0;34m:\u001b[0m\u001b[0;34m\u001b[0m\u001b[0;34m\u001b[0m\u001b[0m\n\u001b[0m\u001b[1;32m      7\u001b[0m     \u001b[0mpickle\u001b[0m\u001b[0;34m.\u001b[0m\u001b[0mdump\u001b[0m\u001b[0;34m(\u001b[0m\u001b[0mmodel\u001b[0m\u001b[0;34m,\u001b[0m \u001b[0mopen\u001b[0m\u001b[0;34m(\u001b[0m\u001b[0mos\u001b[0m\u001b[0;34m.\u001b[0m\u001b[0mpath\u001b[0m\u001b[0;34m.\u001b[0m\u001b[0mjoin\u001b[0m\u001b[0;34m(\u001b[0m\u001b[0mget_data_path\u001b[0m\u001b[0;34m(\u001b[0m\u001b[0;34m)\u001b[0m\u001b[0;34m,\u001b[0m \u001b[0;34m\"output/model.pkl\"\u001b[0m\u001b[0;34m)\u001b[0m\u001b[0;34m)\u001b[0m\u001b[0;34m,\u001b[0m \u001b[0;34m'wb'\u001b[0m\u001b[0;34m)\u001b[0m\u001b[0;34m\u001b[0m\u001b[0;34m\u001b[0m\u001b[0m\n\u001b[1;32m      8\u001b[0m \u001b[0;34m\u001b[0m\u001b[0m\n",
      "\u001b[0;31mFileNotFoundError\u001b[0m: [Errno 2] No such file or directory: '/Users/kienscherfp/sciebo/Teaching/Master/PDS/PDS_Code/10_Python_Software_Projects/pds/notebooks/data/output/model.pkl'"
     ]
    }
   ],
   "source": [
    "pds.model.train()"
   ]
  },
  {
   "cell_type": "code",
   "execution_count": null,
   "metadata": {},
   "outputs": [],
   "source": []
  }
 ],
 "metadata": {
  "kernelspec": {
   "display_name": "Python 3",
   "language": "python",
   "name": "python3"
  },
  "language_info": {
   "codemirror_mode": {
    "name": "ipython",
    "version": 3
   },
   "file_extension": ".py",
   "mimetype": "text/x-python",
   "name": "python",
   "nbconvert_exporter": "python",
   "pygments_lexer": "ipython3",
   "version": "3.7.7"
  }
 },
 "nbformat": 4,
 "nbformat_minor": 4
}
